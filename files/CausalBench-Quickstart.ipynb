{
 "cells": [
  {
   "cell_type": "markdown",
   "source": [
    "# Welcome to CausalBench Quickstart!\n",
    "This notebook file will guide you in your first execution with CausalBench. "
   ],
   "metadata": {
    "collapsed": false
   },
   "id": "9a8aa8d5e011e22e"
  },
  {
   "cell_type": "code",
   "execution_count": null,
   "id": "initial_id",
   "metadata": {
    "collapsed": true
   },
   "outputs": [],
   "source": [
    "#Install CausalBench package\n",
    "!pip install causalbench-asu"
   ]
  },
  {
   "cell_type": "code",
   "outputs": [],
   "source": [
    "#imports\n",
    "from causalbench.modules import Run\n",
    "from causalbench.modules.context import Context"
   ],
   "metadata": {
    "collapsed": false
   },
   "id": "57a5470b9a429dee"
  },
  {
   "cell_type": "code",
   "outputs": [],
   "source": [
    "# Select and fetch the Context\n",
    "context1: Context = Context(module_id=1, version=1)\n",
    "\n",
    "# Run selected Context\n",
    "run: Run = context1.execute()"
   ],
   "metadata": {
    "collapsed": false
   },
   "id": "13b74f368af83d14"
  },
  {
   "cell_type": "code",
   "outputs": [],
   "source": [
    "# Print Run execution results\n",
    "print(run)\n",
    "\n",
    "# Publish the Run\n",
    "run.publish()"
   ],
   "metadata": {
    "collapsed": false
   },
   "id": "c79a53e09450ecbb"
  }
 ],
 "metadata": {
  "kernelspec": {
   "display_name": "Python 3",
   "language": "python",
   "name": "python3"
  },
  "language_info": {
   "codemirror_mode": {
    "name": "ipython",
    "version": 2
   },
   "file_extension": ".py",
   "mimetype": "text/x-python",
   "name": "python",
   "nbconvert_exporter": "python",
   "pygments_lexer": "ipython2",
   "version": "2.7.6"
  }
 },
 "nbformat": 4,
 "nbformat_minor": 5
}
